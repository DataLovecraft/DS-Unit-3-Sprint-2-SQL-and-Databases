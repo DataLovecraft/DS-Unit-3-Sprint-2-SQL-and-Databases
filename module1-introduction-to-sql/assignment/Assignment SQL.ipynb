{
 "cells": [
  {
   "cell_type": "code",
   "execution_count": 2,
   "metadata": {},
   "outputs": [],
   "source": [
    "import os\n",
    "import sqlite3"
   ]
  },
  {
   "cell_type": "markdown",
   "metadata": {},
   "source": [
    "### Part 1, Querying a Database\n",
    "\n",
    "This directory contains a file `rpg_db.sqlite3`, a database for a hypothetical webapp role-playing game. This test data has dozens-to-hundreds of randomly generated characters across the base classes (Fighter, Mage, Cleric, and Thief) as well as a few Necromancers. Also generated are Items, Weapons, and connections from characters to them. Note that, while the name field was randomized, the numeric and boolean fields were left as defaults.\n",
    "\n",
    "Use `sqlite3` to load and write queries to explore the data, and answer the following questions:\n",
    "\n",
    "- How many total Characters are there?\n",
    "- How many of each specific subclass?\n",
    "- How many total Items?\n",
    "- How many of the Items are weapons? How many are not?\n",
    "- How many Items does each character have? (Return first 20 rows)\n",
    "- How many Weapons does each character have? (Return first 20 rows)\n",
    "- On average, how many Items does each Character have?\n",
    "- On average, how many Weapons does each character have?"
   ]
  },
  {
   "cell_type": "code",
   "execution_count": 18,
   "metadata": {},
   "outputs": [],
   "source": [
    "# Connecting to the database file \n",
    "\n",
    "DB_FILEPATH = (\"../data/rpg_db.sqlite3\")                  \n",
    "conn = sqlite3.connect(DB_FILEPATH)                                                                  \n",
    "curs = conn.cursor() "
   ]
  },
  {
   "cell_type": "code",
   "execution_count": 21,
   "metadata": {},
   "outputs": [],
   "source": [
    "# Helper Functions\n",
    "\n",
    "def create_connection(db_file, verbose=False):\n",
    "    \"\"\" Create a database connection to a SQLite database \"\"\"\n",
    "    conn = None\n",
    "    try:\n",
    "        conn = sqlite3.connect(db_file)\n",
    "        if verbose:\n",
    "            print(f'Using SQLite Version: {sqlite3.version}')\n",
    "            print(f'Creating Connection to {db_file}...')\n",
    "        return conn\n",
    "    except sqlite3.Error as e:\n",
    "        print(e)\n",
    "#    finally:\n",
    "#        if conn:\n",
    "#            conn.close()\n",
    "        \n",
    "def select_all_query(db_file, query, verbose=False):\n",
    "    \"\"\"\n",
    "    Query all rows in the database table\n",
    "    :param db_file: database file\n",
    "    :return: results as a list\n",
    "    \"\"\"\n",
    "    conn = create_connection(db_file, verbose)\n",
    "    c = conn.cursor()\n",
    "    if not query.startswith('SELECT'):\n",
    "        raise ValueError('Query should begin with `select`')\n",
    "        \n",
    "    c.execute(query)\n",
    "    rows = c.fetchall()\n",
    "    \n",
    "    if verbose:\n",
    "        for row in rows:\n",
    "            print(row)\n",
    "    \n",
    "    return rows   \n",
    "\n",
    "\n",
    "#results = select_all_query(r'/../rpg_db.sqlite', 'SELECT COUNT(*) FROM charactercreator_character')\n",
    "#print('How many total characters are there?', results[0][0])"
   ]
  },
  {
   "cell_type": "code",
   "execution_count": 22,
   "metadata": {},
   "outputs": [
    {
     "name": "stdout",
     "output_type": "stream",
     "text": [
      "How many total charaters are there?  302\n"
     ]
    }
   ],
   "source": [
    "query = 'SELECT COUNT(*) FROM charactercreator_character;'\n",
    "results = select_all_query(DB_FILEPATH, query)\n",
    "print('How many total charaters are there? ', results[0][0])"
   ]
  },
  {
   "cell_type": "code",
   "execution_count": 13,
   "metadata": {},
   "outputs": [
    {
     "data": {
      "text/plain": [
       "[(302,)]"
      ]
     },
     "execution_count": 13,
     "metadata": {},
     "output_type": "execute_result"
    }
   ],
   "source": [
    "# How many total Characters are there?\n",
    "\n",
    "query = 'SELECT COUNT(*) FROM charactercreator_character;'\n",
    "curs.execute(query).fetchall()"
   ]
  },
  {
   "cell_type": "code",
   "execution_count": 6,
   "metadata": {},
   "outputs": [
    {
     "data": {
      "text/plain": [
       "[(75,)]"
      ]
     },
     "execution_count": 6,
     "metadata": {},
     "output_type": "execute_result"
    }
   ],
   "source": [
    "# How many of each specific subclass?\n",
    "\n",
    "query = 'SELECT COUNT(*) FROM charactercreator_cleric'\n",
    "cur.execute(query).fetchall()"
   ]
  },
  {
   "cell_type": "code",
   "execution_count": 7,
   "metadata": {},
   "outputs": [
    {
     "data": {
      "text/plain": [
       "[(68,)]"
      ]
     },
     "execution_count": 7,
     "metadata": {},
     "output_type": "execute_result"
    }
   ],
   "source": [
    "query = 'SELECT COUNT(*) FROM charactercreator_fighter'\n",
    "cur.execute(query).fetchall()"
   ]
  },
  {
   "cell_type": "code",
   "execution_count": 8,
   "metadata": {},
   "outputs": [
    {
     "data": {
      "text/plain": [
       "[(108,)]"
      ]
     },
     "execution_count": 8,
     "metadata": {},
     "output_type": "execute_result"
    }
   ],
   "source": [
    "query = 'SELECT COUNT(*) FROM charactercreator_mage'\n",
    "cur.execute(query).fetchall()"
   ]
  },
  {
   "cell_type": "code",
   "execution_count": 9,
   "metadata": {},
   "outputs": [
    {
     "data": {
      "text/plain": [
       "[(11,)]"
      ]
     },
     "execution_count": 9,
     "metadata": {},
     "output_type": "execute_result"
    }
   ],
   "source": [
    "query = 'SELECT COUNT(*) FROM charactercreator_necromancer'\n",
    "c.execute(query).fetchall()"
   ]
  },
  {
   "cell_type": "code",
   "execution_count": 11,
   "metadata": {},
   "outputs": [
    {
     "data": {
      "text/plain": [
       "[(51,)]"
      ]
     },
     "execution_count": 11,
     "metadata": {},
     "output_type": "execute_result"
    }
   ],
   "source": [
    "query = 'SELECT COUNT(*) FROM charactercreator_thief;'\n",
    "c.execute(query).fetchall()"
   ]
  },
  {
   "cell_type": "code",
   "execution_count": null,
   "metadata": {},
   "outputs": [],
   "source": [
    "SELECT \"cleric\" as class_name, COUNT(DISTINCT character_ptr_id) as class_count\n",
    "FROM charactercreator_cleric\n",
    "UNION\n",
    "SELECT \"fighter\" as class_name, COUNT(DISTINCT character_ptr_id) as class_count\n",
    "FROM charactercreator_fighter\n",
    "UNION\n",
    "SELECT \"mage\" as class_name, COUNT(DISTINCT character_ptr_id) as class_count\n",
    "FROM charactercreator_mage\n",
    "UNION\n",
    "SELECT \"thief\" as class_name, COUNT(DISTINCT character_ptr_id) as class_count\n",
    "FROM charactercreator_thief\n",
    "UNION\n",
    "SELECT \"necromancer\" as class_name, COUNT(DISTINCT mage_ptr_id) as class_count\n",
    "FROM charactercreator_necromancer"
   ]
  },
  {
   "cell_type": "code",
   "execution_count": 13,
   "metadata": {},
   "outputs": [
    {
     "data": {
      "text/plain": [
       "[(174,)]"
      ]
     },
     "execution_count": 13,
     "metadata": {},
     "output_type": "execute_result"
    }
   ],
   "source": [
    "# How many total items?\n",
    "\n",
    "query = 'SELECT COUNT(*) FROM armory_item'\n",
    "c.execute(query).fetchall()"
   ]
  },
  {
   "cell_type": "code",
   "execution_count": 14,
   "metadata": {},
   "outputs": [
    {
     "data": {
      "text/plain": [
       "[(37,)]"
      ]
     },
     "execution_count": 14,
     "metadata": {},
     "output_type": "execute_result"
    }
   ],
   "source": [
    "# How many of the Items are weapons? How many are not?\n",
    "\n",
    "query = 'SELECT COUNT(*) FROM armory_weapon'\n",
    "c.execute(query).fetchall()"
   ]
  },
  {
   "cell_type": "code",
   "execution_count": 24,
   "metadata": {},
   "outputs": [
    {
     "data": {
      "text/plain": [
       "[(137,)]"
      ]
     },
     "execution_count": 24,
     "metadata": {},
     "output_type": "execute_result"
    }
   ],
   "source": [
    "# How many are not?\n",
    "\n",
    "query = ('SELECT COUNT(*) FROM armory_item '\n",
    "        'WHERE item_id NOT IN (SELECT item_ptr_id FROM armory_weapon)')\n",
    "c.execute(query).fetchall()"
   ]
  },
  {
   "cell_type": "code",
   "execution_count": 1,
   "metadata": {},
   "outputs": [
    {
     "ename": "NameError",
     "evalue": "name 'cur' is not defined",
     "output_type": "error",
     "traceback": [
      "\u001b[0;31m---------------------------------------------------------------------------\u001b[0m",
      "\u001b[0;31mNameError\u001b[0m                                 Traceback (most recent call last)",
      "\u001b[0;32m<ipython-input-1-95559dbe35fb>\u001b[0m in \u001b[0;36m<module>\u001b[0;34m()\u001b[0m\n\u001b[1;32m      8\u001b[0m          'LIMIT 20')\n\u001b[1;32m      9\u001b[0m \u001b[0;34m\u001b[0m\u001b[0m\n\u001b[0;32m---> 10\u001b[0;31m \u001b[0mcur\u001b[0m\u001b[0;34m.\u001b[0m\u001b[0mexecute\u001b[0m\u001b[0;34m(\u001b[0m\u001b[0mquery\u001b[0m\u001b[0;34m)\u001b[0m\u001b[0;34m.\u001b[0m\u001b[0mfetchall\u001b[0m\u001b[0;34m(\u001b[0m\u001b[0;34m)\u001b[0m\u001b[0;34m\u001b[0m\u001b[0m\n\u001b[0m",
      "\u001b[0;31mNameError\u001b[0m: name 'cur' is not defined"
     ]
    }
   ],
   "source": [
    "# How many Items does each character have? (Return first 20 rows)\n",
    "\n",
    "query = ('SELECT character.character_id, COUNT(item_id) '\n",
    "         'FROM charactercreator_inventory AS inventory '\n",
    "         'LEFT OUTER JOIN charactercreater_character_inventory AS inventory '\n",
    "         'ON character.character_id = inventory.character_id '\n",
    "         'GROUP BY character.character_id '\n",
    "         'LIMIT 20')\n",
    "\n",
    "cur.execute(query).fetchall()"
   ]
  },
  {
   "cell_type": "code",
   "execution_count": null,
   "metadata": {},
   "outputs": [],
   "source": []
  }
 ],
 "metadata": {
  "kernelspec": {
   "display_name": "Python 3",
   "language": "python",
   "name": "python3"
  },
  "language_info": {
   "codemirror_mode": {
    "name": "ipython",
    "version": 3
   },
   "file_extension": ".py",
   "mimetype": "text/x-python",
   "name": "python",
   "nbconvert_exporter": "python",
   "pygments_lexer": "ipython3",
   "version": "3.6.10"
  }
 },
 "nbformat": 4,
 "nbformat_minor": 2
}
